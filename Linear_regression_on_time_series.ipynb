{
 "cells": [
  {
   "cell_type": "markdown",
   "id": "golden-triangle",
   "metadata": {},
   "source": [
    "Here is just a demo, using the familiar functions from https://matthew-brett.github.io/cfd2020/mean-slopes/mean_and_slopes.html to predict events (number of accidents, number of births) as a function of time, for a single country.\n",
    "\n",
    "`A` is a simulated country, and the datapoint at each timepoint is a simulated number of events that occured in that timepoint."
   ]
  },
  {
   "cell_type": "code",
   "execution_count": 1,
   "id": "rotary-debate",
   "metadata": {},
   "outputs": [
    {
     "data": {
      "text/html": [
       "<div>\n",
       "<style scoped>\n",
       "    .dataframe tbody tr th:only-of-type {\n",
       "        vertical-align: middle;\n",
       "    }\n",
       "\n",
       "    .dataframe tbody tr th {\n",
       "        vertical-align: top;\n",
       "    }\n",
       "\n",
       "    .dataframe thead th {\n",
       "        text-align: right;\n",
       "    }\n",
       "</style>\n",
       "<table border=\"1\" class=\"dataframe\">\n",
       "  <thead>\n",
       "    <tr style=\"text-align: right;\">\n",
       "      <th></th>\n",
       "      <th>A</th>\n",
       "    </tr>\n",
       "    <tr>\n",
       "      <th>Time point:</th>\n",
       "      <th></th>\n",
       "    </tr>\n",
       "  </thead>\n",
       "  <tbody>\n",
       "    <tr>\n",
       "      <th>0</th>\n",
       "      <td>4</td>\n",
       "    </tr>\n",
       "    <tr>\n",
       "      <th>1</th>\n",
       "      <td>1</td>\n",
       "    </tr>\n",
       "    <tr>\n",
       "      <th>2</th>\n",
       "      <td>0</td>\n",
       "    </tr>\n",
       "    <tr>\n",
       "      <th>3</th>\n",
       "      <td>1</td>\n",
       "    </tr>\n",
       "    <tr>\n",
       "      <th>4</th>\n",
       "      <td>4</td>\n",
       "    </tr>\n",
       "    <tr>\n",
       "      <th>5</th>\n",
       "      <td>7</td>\n",
       "    </tr>\n",
       "    <tr>\n",
       "      <th>6</th>\n",
       "      <td>0</td>\n",
       "    </tr>\n",
       "    <tr>\n",
       "      <th>7</th>\n",
       "      <td>12</td>\n",
       "    </tr>\n",
       "    <tr>\n",
       "      <th>8</th>\n",
       "      <td>12</td>\n",
       "    </tr>\n",
       "    <tr>\n",
       "      <th>9</th>\n",
       "      <td>8</td>\n",
       "    </tr>\n",
       "  </tbody>\n",
       "</table>\n",
       "</div>"
      ],
      "text/plain": [
       "              A\n",
       "Time point:    \n",
       "0             4\n",
       "1             1\n",
       "2             0\n",
       "3             1\n",
       "4             4\n",
       "5             7\n",
       "6             0\n",
       "7            12\n",
       "8            12\n",
       "9             8"
      ]
     },
     "execution_count": 1,
     "metadata": {},
     "output_type": "execute_result"
    }
   ],
   "source": [
    "import numpy as np\n",
    "import pandas as pd\n",
    "import matplotlib.pyplot as plt\n",
    "\n",
    "# creating some fake time series data\n",
    "\n",
    "data_1 = np.abs(np.arange(30) + np.random.normal(0, 5, size = 30)).astype('int')\n",
    "\n",
    "data_1 = np.append(data_1, np.arange(30, 0, -1) + np.random.normal(0, 2, size = 30)).astype('int')\n",
    "\n",
    "\n",
    "df = pd.DataFrame({'A': data_1})\n",
    "\n",
    "df.index.rename('Time point:', inplace = True)\n",
    "\n",
    "df.head(10)"
   ]
  },
  {
   "cell_type": "markdown",
   "id": "contrary-repository",
   "metadata": {},
   "source": [
    "We can see that this data has a clear change in trend. If this change occured when there was a big change in the country, we might conclude that the change caused the change in the trend. Let's say the events are `number of births per 1000 people` and at timepoint 27, the government introduced new taxes that disincentivized having children. It definitely looks like this policy might have led to a reduced number of births. \n",
    "\n",
    "We can use linear regression quantify the change in trend."
   ]
  },
  {
   "cell_type": "code",
   "execution_count": 15,
   "id": "victorian-equality",
   "metadata": {},
   "outputs": [
    {
     "data": {
      "image/png": "[encoded data removed]",
      "text/plain": [
       "<Figure size 432x288 with 1 Axes>"
      ]
     },
     "metadata": {
      "needs_background": "light"
     },
     "output_type": "display_data"
    }
   ],
   "source": [
    "df.plot()\n",
    "plt.plot([27,27], [0, 38], label = 'BIG CHANGE')\n",
    "plt.ylabel('number of births per 1000 people')\n",
    "plt.legend();"
   ]
  },
  {
   "cell_type": "markdown",
   "id": "accurate-budapest",
   "metadata": {},
   "source": [
    "Creating a dataframe of the time series points BEFORE the big change:"
   ]
  },
  {
   "cell_type": "code",
   "execution_count": 3,
   "id": "blocked-publisher",
   "metadata": {},
   "outputs": [
    {
     "data": {
      "image/png": "[encoded data removed]",
      "text/plain": [
       "<Figure size 432x288 with 1 Axes>"
      ]
     },
     "metadata": {
      "needs_background": "light"
     },
     "output_type": "display_data"
    }
   ],
   "source": [
    "before_change = df.loc[0 : 27].copy()\n",
    "\n",
    "before_change.plot();"
   ]
  },
  {
   "cell_type": "markdown",
   "id": "capital-teddy",
   "metadata": {},
   "source": [
    "Creating a dataframe of the time series points AFTER the big change:"
   ]
  },
  {
   "cell_type": "code",
   "execution_count": 4,
   "id": "gross-defendant",
   "metadata": {},
   "outputs": [
    {
     "data": {
      "image/png": "[encoded data removed]",
      "text/plain": [
       "<Figure size 432x288 with 1 Axes>"
      ]
     },
     "metadata": {
      "needs_background": "light"
     },
     "output_type": "display_data"
    }
   ],
   "source": [
    "after_change = df.loc[27:].copy()\n",
    "\n",
    "after_change.plot();"
   ]
  },
  {
   "cell_type": "markdown",
   "id": "nasty-caution",
   "metadata": {},
   "source": [
    "We can treat the timepoints as the predictor variable, and look at the number of events as the outcome variable. (*NB:* if the dates are in the datetime format (e.g. https://pandas.pydata.org/docs/reference/api/pandas.to_datetime.html), then they will need to be converted to ints or floats before using them as a predictor...).\n",
    "\n",
    "If we perform a linear regression over a particular time period, and the slope is positive, it means that the number of events is increasing in that time period. A negative slope means the number of events is decreasing in that time period."
   ]
  },
  {
   "cell_type": "code",
   "execution_count": 5,
   "id": "hindu-council",
   "metadata": {},
   "outputs": [],
   "source": [
    "# adapting the sum of squared error function from https://matthew-brett.github.io/cfd2020/mean-slopes/using_minimize.html\n",
    "\n",
    "def sos_error_for_minimize(intercept_and_slope, time, events):\n",
    "    # intercept_and_slope has two elements, the intercept and the slope.\n",
    "    # time is the series of timepoints to predict from\n",
    "    # events are the number of events in each timepoint\n",
    "    intercept = intercept_and_slope[0]\n",
    "    slope = intercept_and_slope[1]\n",
    "    predicted = intercept + time * slope\n",
    "    error =  events - predicted\n",
    "    return np.sum(error ** 2)"
   ]
  },
  {
   "cell_type": "code",
   "execution_count": 6,
   "id": "processed-superior",
   "metadata": {},
   "outputs": [
    {
     "data": {
      "text/plain": [
       "37908"
      ]
     },
     "execution_count": 6,
     "metadata": {},
     "output_type": "execute_result"
    }
   ],
   "source": [
    "# testing the function on the whole timeseries (df.index contains the time points, df['A'] contains the number of events for\n",
    "# each timepoint)\n",
    "sos_error_for_minimize([1,1], df.index, df['A'])"
   ]
  },
  {
   "cell_type": "markdown",
   "id": "afraid-census",
   "metadata": {},
   "source": [
    "If we minimize the sum of squares function on the timepoints BEFORE the big change:"
   ]
  },
  {
   "cell_type": "code",
   "execution_count": 7,
   "id": "stainless-breeding",
   "metadata": {},
   "outputs": [
    {
     "data": {
      "text/plain": [
       "      fun: 344.9039408867002\n",
       " hess_inv: array([[ 0.06773386, -0.00369457],\n",
       "       [-0.00369457,  0.00027367]])\n",
       "      jac: array([-7.62939453e-06,  0.00000000e+00])\n",
       "  message: 'Optimization terminated successfully.'\n",
       "     nfev: 24\n",
       "      nit: 4\n",
       "     njev: 6\n",
       "   status: 0\n",
       "  success: True\n",
       "        x: array([0.45812789, 1.00574713])"
      ]
     },
     "execution_count": 7,
     "metadata": {},
     "output_type": "execute_result"
    }
   ],
   "source": [
    "from scipy.optimize import minimize\n",
    "\n",
    "min_res_before = minimize(sos_error_for_minimize, [1, 1], args = (before_change.index, before_change['A']))\n",
    "min_res_before"
   ]
  },
  {
   "cell_type": "markdown",
   "id": "ahead-rental",
   "metadata": {},
   "source": [
    "And then we minimize the sum of squares function on the timepoints AFTER the big change:"
   ]
  },
  {
   "cell_type": "code",
   "execution_count": 8,
   "id": "forbidden-partner",
   "metadata": {},
   "outputs": [
    {
     "data": {
      "text/plain": [
       "      fun: 201.95588235302895\n",
       " hess_inv: array([[ 3.24142098e-01, -7.18582767e-03],\n",
       "       [-7.18582767e-03,  1.67112275e-04]])\n",
       "      jac: array([ 0.00000000e+00, -7.62939453e-06])\n",
       "  message: 'Optimization terminated successfully.'\n",
       "     nfev: 24\n",
       "      nit: 4\n",
       "     njev: 6\n",
       "   status: 0\n",
       "  success: True\n",
       "        x: array([57.41912504, -0.96323547])"
      ]
     },
     "execution_count": 8,
     "metadata": {},
     "output_type": "execute_result"
    }
   ],
   "source": [
    "min_res_after = minimize(sos_error_for_minimize, [1, 1], args = (after_change.index, after_change['A']))\n",
    "min_res_after"
   ]
  },
  {
   "cell_type": "code",
   "execution_count": 9,
   "id": "divided-history",
   "metadata": {},
   "outputs": [
    {
     "name": "stdout",
     "output_type": "stream",
     "text": [
      "The slope BEFORE the change = 1.0057471293754539\n",
      "The slope AFTER the change = -0.9632354654262826\n"
     ]
    }
   ],
   "source": [
    "print('The slope BEFORE the change =', min_res_before.x[1])\n",
    "print('The slope AFTER the change =', min_res_after.x[1])"
   ]
  },
  {
   "cell_type": "markdown",
   "id": "delayed-belize",
   "metadata": {},
   "source": [
    "A positive slope means that, on average, the number of births increased for a 1-unit increase in time.\n",
    "\n",
    "A negative slope means that, on average, the number of births decreased for a 1-unit increase in time."
   ]
  },
  {
   "cell_type": "markdown",
   "id": "adopted-patent",
   "metadata": {},
   "source": [
    "# IMPORTANT CAUTION\n",
    "\n",
    "This is quite an informal method of looking at trends in time series. It will give descriptive, indicative evidence about the trend before and after an intervention - based on the sign of the slope before/after - but we cannot test the significance of the slopes in the normal way (e.g. we can't use the method from https://matthew-brett.github.io/cfd2020/mean-slopes/inference_on_slopes.html). So this method should be augmented with a different method to actually test the before/after difference.\n",
    "\n",
    "This is because of the nature of time series data, which is why they require specialized statistical methods. There's an explanation of the problem here: https://stats.stackexchange.com/questions/473076/permutation-tests-and-exchangeability/473108#473108"
   ]
  },
  {
   "cell_type": "code",
   "execution_count": null,
   "id": "seventh-punishment",
   "metadata": {},
   "outputs": [],
   "source": []
  }
 ],
 "metadata": {
  "jupytext": {
   "formats": "ipynb,Rmd"
  },
  "kernelspec": {
   "display_name": "Python 3",
   "language": "python",
   "name": "python3"
  },
  "language_info": {
   "codemirror_mode": {
    "name": "ipython",
    "version": 3
   },
   "file_extension": ".py",
   "mimetype": "text/x-python",
   "name": "python",
   "nbconvert_exporter": "python",
   "pygments_lexer": "ipython3",
   "version": "3.7.9"
  }
 },
 "nbformat": 4,
 "nbformat_minor": 5
}
