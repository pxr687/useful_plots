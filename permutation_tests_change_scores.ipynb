{
 "cells": [
  {
   "cell_type": "markdown",
   "id": "joined-oxford",
   "metadata": {},
   "source": [
    "# Permutation tests with change scores"
   ]
  },
  {
   "cell_type": "code",
   "execution_count": 1,
   "id": "laughing-strain",
   "metadata": {},
   "outputs": [],
   "source": [
    "import pandas as pd\n",
    "import matplotlib.pyplot as plt\n",
    "import numpy as np"
   ]
  },
  {
   "cell_type": "markdown",
   "id": "irish-institute",
   "metadata": {},
   "source": [
    "This notebook will simulate a clinical trial where a placebo group and an active drug group are tested pre and post treatment. The tests will test the null hypothesis that there is no difference in the pre/post treatment change scores for each group. E.g. that the drug is no more effective than placebo.\n",
    "\n",
    "The output of the cell below shows the simulated symptom severity scores before treatment, for each participant. E.g. before the placebo group have received the placebo treatment, and before the drug group have received the active drug treatment:"
   ]
  },
  {
   "cell_type": "code",
   "execution_count": 2,
   "id": "direct-reform",
   "metadata": {},
   "outputs": [
    {
     "name": "stdout",
     "output_type": "stream",
     "text": [
      "\n",
      "Placebo group symptom severity scores BEFORE treatment:\n"
     ]
    },
    {
     "data": {
      "text/plain": [
       "array([ 92,  95, 129, 105,  83,  91,  91, 130,  93, 116,  69, 102, 122,\n",
       "        83,  98, 100,  82,  90,  90, 105, 121, 132,  97, 115, 103,  83,\n",
       "        96, 105,  96, 103, 113,  98, 101,  92,  81,  89,  75,  81,  94,\n",
       "       104, 108, 103,  92,  88, 115, 107, 105, 123,  89, 102, 108,  79,\n",
       "        91, 106, 105, 101,  93, 103, 115,  97, 126,  88,  86, 112,  80,\n",
       "        87,  89, 116, 109, 112, 117,  90, 103, 107,  59,  85, 113, 115,\n",
       "       121,  93])"
      ]
     },
     "metadata": {},
     "output_type": "display_data"
    },
    {
     "name": "stdout",
     "output_type": "stream",
     "text": [
      "\n",
      "Drug group symptom severity scores BEFORE treatment:\n"
     ]
    },
    {
     "data": {
      "text/plain": [
       "array([ 89,  76, 106,  94,  88,  78, 107,  94,  96,  63, 123,  95,  95,\n",
       "        77,  94, 108, 104,  75, 140,  85,  69, 104,  82,  98, 110,  74,\n",
       "       114,  91, 115, 109,  76, 116, 107, 109,  97, 116,  89, 112, 105,\n",
       "        87, 109,  89,  96, 103, 115, 102,  89,  88,  81,  94, 111, 104,\n",
       "        64,  92,  86,  92,  93, 116, 124, 106, 101, 111, 127,  85, 116,\n",
       "        75, 106, 113, 110,  89,  88,  98,  71,  93,  95,  90,  99, 118,\n",
       "        84, 107])"
      ]
     },
     "metadata": {},
     "output_type": "display_data"
    }
   ],
   "source": [
    "# setting a sample size for the simulated groups\n",
    "samp_size = 80\n",
    "\n",
    "# creating simulated pre-treatment scores for the placebo group\n",
    "placebo_before = np.random.normal(100, 15, samp_size).astype('int')\n",
    "\n",
    "print('\\nPlacebo group symptom severity scores BEFORE treatment:')\n",
    "display(placebo_before)\n",
    "\n",
    "# creating simulated pre-treatment scores for the drug group\n",
    "drug_before = np.random.normal(100, 15, samp_size).astype('int')\n",
    "\n",
    "print('\\nDrug group symptom severity scores BEFORE treatment:')\n",
    "display(drug_before)"
   ]
  },
  {
   "cell_type": "markdown",
   "id": "potential-tissue",
   "metadata": {},
   "source": [
    "The output of the cell below shows the symptom severity scores after treatment:"
   ]
  },
  {
   "cell_type": "code",
   "execution_count": 3,
   "id": "accepting-latex",
   "metadata": {},
   "outputs": [
    {
     "name": "stdout",
     "output_type": "stream",
     "text": [
      "Placebo group scores AFTER treatment:\n"
     ]
    },
    {
     "data": {
      "text/plain": [
       "array([100,  88,  90,  81, 112,  99,  84, 100, 102,  75,  85, 108,  99,\n",
       "        80,  92,  85,  83,  77,  95,  83, 113, 107,  86, 117,  70, 124,\n",
       "       119, 104,  79, 107,  92,  68, 106,  97,  82,  91,  77,  76, 113,\n",
       "        54, 106,  95,  88,  90, 118,  76,  94,  80,  70,  99, 115, 121,\n",
       "        97, 105,  96,  96, 133,  97,  85,  87,  93,  86, 118,  77,  81,\n",
       "        95, 111,  98,  59,  95, 122, 123,  91, 103, 103,  62, 114,  88,\n",
       "        84,  95])"
      ]
     },
     "metadata": {},
     "output_type": "display_data"
    },
    {
     "name": "stdout",
     "output_type": "stream",
     "text": [
      "Drug group scores AFTER treatment:\n"
     ]
    },
    {
     "data": {
      "text/plain": [
       "array([104,  75,  96,  79,  87,  90,  88,  87,  86,  67,  79, 106,  76,\n",
       "        73,  65, 100,  92, 113,  98,  93, 100, 110,  41, 107,  96,  92,\n",
       "        87, 116,  79,  65,  83,  71,  85, 109,  76,  79,  92, 102,  96,\n",
       "        83,  73,  74, 103,  75,  91,  81,  66, 101,  68,  74,  96, 105,\n",
       "       101,  70,  76, 105,  91,  91,  83,  97,  94, 102,  85,  84,  60,\n",
       "        78, 102,  69, 123,  74,  92,  53,  79,  77,  69,  71,  84,  70,\n",
       "        78,  76])"
      ]
     },
     "metadata": {},
     "output_type": "display_data"
    }
   ],
   "source": [
    "# creating simulated post-treatment scores for the placebo group\n",
    "placebo_after = np.random.normal(95, 15, samp_size).astype('int')\n",
    "\n",
    "print('Placebo group scores AFTER treatment:')\n",
    "display(placebo_after)\n",
    "\n",
    "\n",
    "# creating simulated post-treatment scores for the drug group\n",
    "drug_after = np.random.normal(85, 15, samp_size).astype('int')\n",
    "\n",
    "print('Drug group scores AFTER treatment:')\n",
    "display(drug_after)"
   ]
  },
  {
   "cell_type": "markdown",
   "id": "south-colonial",
   "metadata": {},
   "source": [
    "The cells below show some graphical inspection of the data, using seaborn:"
   ]
  },
  {
   "cell_type": "code",
   "execution_count": 4,
   "id": "cubic-italian",
   "metadata": {},
   "outputs": [
    {
     "data": {
      "image/png": "[encoded data removed]",
      "text/plain": [
       "<Figure size 432x288 with 1 Axes>"
      ]
     },
     "metadata": {
      "needs_background": "light"
     },
     "output_type": "display_data"
    }
   ],
   "source": [
    "import seaborn as sns\n",
    "\n",
    "# plotting the pre/post treatment scores for each group\n",
    "sns.boxplot(data = [placebo_before, placebo_after, drug_before, drug_after])\n",
    "# labelling the axes\n",
    "plt.xticks(np.arange(4), ['placebo_before', 'placebo_after', 'drug_before', 'drug_after'])\n",
    "plt.ylabel('symptom severity');"
   ]
  },
  {
   "cell_type": "markdown",
   "id": "processed-plain",
   "metadata": {},
   "source": [
    "In this instance, from graphical inspection it does look like the post-treatment syptom severity is lower for the drug group than for the placebo group. It's especially informative to look at the line in the center of each boxplot, which shows the median."
   ]
  },
  {
   "cell_type": "markdown",
   "id": "spatial-veteran",
   "metadata": {},
   "source": [
    "# Change scores\n",
    "\n",
    "The output of the cell below shows the change scores for each group. Generally this is calculated by subtracting the pre-treatment scores from the post-treatment scores."
   ]
  },
  {
   "cell_type": "code",
   "execution_count": 5,
   "id": "empty-friend",
   "metadata": {},
   "outputs": [
    {
     "name": "stdout",
     "output_type": "stream",
     "text": [
      "\n",
      "Placebo group change scores:\n"
     ]
    },
    {
     "data": {
      "text/plain": [
       "array([  8,  -7, -39, -24,  29,   8,  -7, -30,   9, -41,  16,   6, -23,\n",
       "        -3,  -6, -15,   1, -13,   5, -22,  -8, -25, -11,   2, -33,  41,\n",
       "        23,  -1, -17,   4, -21, -30,   5,   5,   1,   2,   2,  -5,  19,\n",
       "       -50,  -2,  -8,  -4,   2,   3, -31, -11, -43, -19,  -3,   7,  42,\n",
       "         6,  -1,  -9,  -5,  40,  -6, -30, -10, -33,  -2,  32, -35,   1,\n",
       "         8,  22, -18, -50, -17,   5,  33, -12,  -4,  44, -23,   1, -27,\n",
       "       -37,   2])"
      ]
     },
     "metadata": {},
     "output_type": "display_data"
    },
    {
     "name": "stdout",
     "output_type": "stream",
     "text": [
      "\n",
      "Drug group change scores:\n"
     ]
    },
    {
     "data": {
      "text/plain": [
       "array([ 15,  -1, -10, -15,  -1,  12, -19,  -7, -10,   4, -44,  11, -19,\n",
       "        -4, -29,  -8, -12,  38, -42,   8,  31,   6, -41,   9, -14,  18,\n",
       "       -27,  25, -36, -44,   7, -45, -22,   0, -21, -37,   3, -10,  -9,\n",
       "        -4, -36, -15,   7, -28, -24, -21, -23,  13, -13, -20, -15,   1,\n",
       "        37, -22, -10,  13,  -2, -25, -41,  -9,  -7,  -9, -42,  -1, -56,\n",
       "         3,  -4, -44,  13, -15,   4, -45,   8, -16, -26, -19, -15, -48,\n",
       "        -6, -31])"
      ]
     },
     "metadata": {},
     "output_type": "display_data"
    }
   ],
   "source": [
    "# calculating the change scores for the placebo group\n",
    "placebo_change = placebo_after - placebo_before\n",
    "print('\\nPlacebo group change scores:')\n",
    "display(placebo_change)\n",
    "\n",
    "# calculating the change scores for the drug group\n",
    "drug_change = drug_after - drug_before\n",
    "print('\\nDrug group change scores:')\n",
    "display(drug_change)"
   ]
  },
  {
   "cell_type": "markdown",
   "id": "precious-graduation",
   "metadata": {},
   "source": [
    "We can graphically inspect the change scores for each group, in the same way as for the raw scores:"
   ]
  },
  {
   "cell_type": "code",
   "execution_count": 6,
   "id": "cross-money",
   "metadata": {},
   "outputs": [
    {
     "data": {
      "image/png": "[encoded data removed]",
      "text/plain": [
       "<Figure size 432x288 with 1 Axes>"
      ]
     },
     "metadata": {
      "needs_background": "light"
     },
     "output_type": "display_data"
    }
   ],
   "source": [
    "sns.boxplot(data = [placebo_change, drug_change])\n",
    "plt.xticks(np.arange(2), ['placebo group', 'drug group'])\n",
    "plt.ylabel('symptom severity pre/post treatment change');"
   ]
  },
  {
   "cell_type": "markdown",
   "id": "attached-break",
   "metadata": {},
   "source": [
    "It does look like the drug group generally have more negative change scores. This indicates a greater reduction in symptom severity in the drug group, relative to the placebo group.\n",
    "\n",
    "We can check this further with some descriptive statistics:"
   ]
  },
  {
   "cell_type": "code",
   "execution_count": 7,
   "id": "blessed-ownership",
   "metadata": {},
   "outputs": [
    {
     "name": "stdout",
     "output_type": "stream",
     "text": [
      "The mean change for the placebo group =  -5.4625\n",
      "The mean change for the drug group =  -11.6625\n"
     ]
    }
   ],
   "source": [
    "print('The mean change for the placebo group = ', np.mean(placebo_change))\n",
    "\n",
    "print('The mean change for the drug group = ', np.mean(drug_change))"
   ]
  },
  {
   "cell_type": "markdown",
   "id": "alpha-lambda",
   "metadata": {},
   "source": [
    "# Permutation testing the difference in mean change scores between the two groups\n",
    "\n",
    "We can permutation test the difference in the mean change scores between the groups in a very similar way to the permutation test shown in: https://matthew-brett.github.io/cfd2020/permutation/permutation_and_t_test.html\n",
    "\n",
    "This method shuffles the change scores themselves. There's another method, which uses only the +/- signs of the change scores, which I'll show after this.\n",
    "\n",
    "First, let's calculate the actual difference between the mean change score of each group:"
   ]
  },
  {
   "cell_type": "code",
   "execution_count": 8,
   "id": "lucky-moses",
   "metadata": {},
   "outputs": [
    {
     "name": "stdout",
     "output_type": "stream",
     "text": [
      "6.199999999999999\n"
     ]
    }
   ],
   "source": [
    "actual_diff = np.mean(placebo_change) - np.mean(drug_change)\n",
    "\n",
    "print(actual_diff)"
   ]
  },
  {
   "cell_type": "markdown",
   "id": "stopped-geography",
   "metadata": {},
   "source": [
    "The permutation test is shown below:"
   ]
  },
  {
   "cell_type": "code",
   "execution_count": 9,
   "id": "tropical-pointer",
   "metadata": {},
   "outputs": [],
   "source": [
    "# adpated from https://matthew-brett.github.io/cfd2020/permutation/permutation_and_t_test.html\n",
    "\n",
    "# count the number of participants in the placebo group\n",
    "n_placebo = len(placebo_change)\n",
    "\n",
    "# pool the change scores together\n",
    "pooled = np.append(placebo_change, drug_change)\n",
    "\n",
    "# set the number of iterations for the permutation test\n",
    "n_iters = 10000\n",
    "\n",
    "# create an array to store the fake differences in the mean change scores\n",
    "fake_differences = np.zeros(n_iters)\n",
    "\n",
    "# for 10,000 iterations, shuffle the change scores around, as if there is no difference between the groups (e.g. no difference\n",
    "# between the direction or magnitude of the changes in each group)\n",
    "for i in np.arange(n_iters):\n",
    "    shuffled = np.random.permutation(pooled)\n",
    "    \n",
    "    # calculate the fake difference in the mean change scores between each group\n",
    "    fake_differences[i] = np.mean(shuffled[:n_placebo]) - np.mean(shuffled[n_placebo:])\n",
    "    "
   ]
  },
  {
   "cell_type": "markdown",
   "id": "legitimate-german",
   "metadata": {},
   "source": [
    "In the familar way, we can plot the simulate sampling distribution of the fake differences in mean change scores:"
   ]
  },
  {
   "cell_type": "code",
   "execution_count": 10,
   "id": "leading-client",
   "metadata": {},
   "outputs": [
    {
     "data": {
      "image/png": "[encoded data removed]",
      "text/plain": [
       "<Figure size 432x288 with 1 Axes>"
      ]
     },
     "metadata": {
      "needs_background": "light"
     },
     "output_type": "display_data"
    }
   ],
   "source": [
    "plt.hist(fake_differences)\n",
    "plt.title('Sampling distribution of difference of fake mean change scores');"
   ]
  },
  {
   "cell_type": "markdown",
   "id": "roman-bulletin",
   "metadata": {},
   "source": [
    "Let's plot the actual difference in mean change scores, to see how likely/unlikely a difference of that size was, in the simulation."
   ]
  },
  {
   "cell_type": "code",
   "execution_count": 11,
   "id": "grave-clarity",
   "metadata": {},
   "outputs": [
    {
     "data": {
      "image/png": "[encoded data removed]",
      "text/plain": [
       "<Figure size 432x288 with 1 Axes>"
      ]
     },
     "metadata": {
      "needs_background": "light"
     },
     "output_type": "display_data"
    }
   ],
   "source": [
    "plt.hist(fake_differences)\n",
    "plt.title('Sampling distribution of difference of fake mean change score')\n",
    "plt.plot(actual_diff, 1, 'o', markersize = 10, label = 'actual difference in mean change score')\n",
    "plt.legend();"
   ]
  },
  {
   "cell_type": "markdown",
   "id": "destroyed-lover",
   "metadata": {},
   "source": [
    "We can also calculate a p-value, but calculating the proportion of fake mean differences which were as large or larger than the absolute value of the actual difference:"
   ]
  },
  {
   "cell_type": "code",
   "execution_count": 12,
   "id": "invalid-jurisdiction",
   "metadata": {},
   "outputs": [
    {
     "name": "stdout",
     "output_type": "stream",
     "text": [
      "0.0283\n"
     ]
    }
   ],
   "source": [
    "p_value = np.count_nonzero(fake_differences >= np.abs(actual_diff))/len(fake_differences)\n",
    "\n",
    "print(p_value)"
   ]
  },
  {
   "cell_type": "markdown",
   "id": "aerial-channel",
   "metadata": {},
   "source": [
    "# Permutation testing the difference in +/- proportions of the change scores, between the two groups\n",
    "\n",
    "Another way of testing whether the drug is effective, is to look only at the direction of the changes in each group. This might be useful in situations where different groups have data that cannot be converted to comparable scales (e.g. counts of events that could not be converted to rates due to missing data etc.).\n",
    "\n",
    "In the present example (and it can get a bit confusing) a negative change is what we want, as we want symptom severity to decrease.\n",
    "\n",
    "If the drug is not effective, we would expect roughly equal amounts of positive and negative change scores in the drug group.\n",
    "\n",
    "If the drug is no more effective than the placebo, we would expect the distribution of postive and negative change scores to be the same between the placebo and drug groups.\n",
    "\n",
    "The placebo might be effective, because of the placebo effect. So we might expect more negative changes than positive changes in both groups. But if the drug is more effective than the placebo, we would expect the proportion of negative changes to be higher in the drug group than the placebo group. This would indicate a greater reduction in symptom severity in the drug group than in the placebo group.\n",
    "\n",
    "First, let's write a function to convert the actual change scores to a string, either `+` or `-`, depending on the sign of the change score:"
   ]
  },
  {
   "cell_type": "code",
   "execution_count": 13,
   "id": "capable-pattern",
   "metadata": {},
   "outputs": [],
   "source": [
    "# Note: I've since learned np.sign() can be used to do this, though it will use 1 for positives and -1 for negatives instead \n",
    "# of the '+' and '-' which I've used here. It's generally preferred to use ints rather than strings if possible.\n",
    "\n",
    "def change_score_to_sign(change_scores):\n",
    "    \n",
    "    # copy the input array, to avoid changing the original change scores\n",
    "    change_scores_no_zeros = np.copy(change_scores)\n",
    "    \n",
    "    # take the input array, replace any positive values with `+` and any negative values with `-`\n",
    "    output = np.where(change_scores_no_zeros > 0, '+', '-')\n",
    "    \n",
    "    return output"
   ]
  },
  {
   "cell_type": "code",
   "execution_count": 14,
   "id": "infrared-pierre",
   "metadata": {},
   "outputs": [
    {
     "data": {
      "text/plain": [
       "array(['+', '-', '-', '-', '+', '+', '-', '-', '+', '-', '+', '+', '-',\n",
       "       '-', '-', '-', '+', '-', '+', '-', '-', '-', '-', '+', '-', '+',\n",
       "       '+', '-', '-', '+', '-', '-', '+', '+', '+', '+', '+', '-', '+',\n",
       "       '-', '-', '-', '-', '+', '+', '-', '-', '-', '-', '-', '+', '+',\n",
       "       '+', '-', '-', '-', '+', '-', '-', '-', '-', '-', '+', '-', '+',\n",
       "       '+', '+', '-', '-', '-', '+', '+', '-', '-', '+', '-', '+', '-',\n",
       "       '-', '+'], dtype='<U1')"
      ]
     },
     "execution_count": 14,
     "metadata": {},
     "output_type": "execute_result"
    }
   ],
   "source": [
    "# testing the function on the placebo change scores\n",
    "change_score_to_sign(placebo_change)"
   ]
  },
  {
   "cell_type": "code",
   "execution_count": 15,
   "id": "eleven-article",
   "metadata": {},
   "outputs": [],
   "source": [
    "# running the function on the change scores of both groups, and storing the results as variables\n",
    "placebo_change_signs = change_score_to_sign(placebo_change)\n",
    "\n",
    "drug_change_signs = change_score_to_sign(drug_change)"
   ]
  },
  {
   "cell_type": "code",
   "execution_count": 16,
   "id": "human-commitment",
   "metadata": {},
   "outputs": [
    {
     "name": "stdout",
     "output_type": "stream",
     "text": [
      "Signs of the change scores for the placebo group:\n"
     ]
    },
    {
     "data": {
      "text/plain": [
       "array(['+', '-', '-', '-', '+', '+', '-', '-', '+', '-', '+', '+', '-',\n",
       "       '-', '-', '-', '+', '-', '+', '-', '-', '-', '-', '+', '-', '+',\n",
       "       '+', '-', '-', '+', '-', '-', '+', '+', '+', '+', '+', '-', '+',\n",
       "       '-', '-', '-', '-', '+', '+', '-', '-', '-', '-', '-', '+', '+',\n",
       "       '+', '-', '-', '-', '+', '-', '-', '-', '-', '-', '+', '-', '+',\n",
       "       '+', '+', '-', '-', '-', '+', '+', '-', '-', '+', '-', '+', '-',\n",
       "       '-', '+'], dtype='<U1')"
      ]
     },
     "metadata": {},
     "output_type": "display_data"
    },
    {
     "name": "stdout",
     "output_type": "stream",
     "text": [
      "Signs of the change scores for the drug group:\n"
     ]
    },
    {
     "data": {
      "text/plain": [
       "array(['+', '-', '-', '-', '-', '+', '-', '-', '-', '+', '-', '+', '-',\n",
       "       '-', '-', '-', '-', '+', '-', '+', '+', '+', '-', '+', '-', '+',\n",
       "       '-', '+', '-', '-', '+', '-', '-', '-', '-', '-', '+', '-', '-',\n",
       "       '-', '-', '-', '+', '-', '-', '-', '-', '+', '-', '-', '-', '+',\n",
       "       '+', '-', '-', '+', '-', '-', '-', '-', '-', '-', '-', '-', '-',\n",
       "       '+', '-', '-', '+', '-', '+', '-', '+', '-', '-', '-', '-', '-',\n",
       "       '-', '-'], dtype='<U1')"
      ]
     },
     "metadata": {},
     "output_type": "display_data"
    }
   ],
   "source": [
    "print('Signs of the change scores for the placebo group:')\n",
    "display(placebo_change_signs)\n",
    "\n",
    "print('Signs of the change scores for the drug group:')\n",
    "display(drug_change_signs)"
   ]
  },
  {
   "cell_type": "markdown",
   "id": "fatal-likelihood",
   "metadata": {},
   "source": [
    "What we are interested in is whether the proportion of negative change scores differs between the placebo and drug group.\n",
    "\n",
    "The proportions of negative change scores are calculated and plotted in the cell below:"
   ]
  },
  {
   "cell_type": "code",
   "execution_count": 17,
   "id": "automatic-maria",
   "metadata": {},
   "outputs": [
    {
     "data": {
      "image/png": "[encoded data removed]",
      "text/plain": [
       "<Figure size 432x288 with 1 Axes>"
      ]
     },
     "metadata": {
      "needs_background": "light"
     },
     "output_type": "display_data"
    }
   ],
   "source": [
    "prop_neg_placebo = np.count_nonzero(placebo_change_signs == '-')/len(placebo_change_signs)\n",
    "\n",
    "prop_neg_drug = np.count_nonzero(drug_change_signs == '-')/len(drug_change_signs)\n",
    "\n",
    "\n",
    "plt.bar(['placebo group', 'drug group'], [prop_neg_placebo, prop_neg_drug], color = ['blue', 'red'])\n",
    "plt.ylabel('Proportion of negative change scores');"
   ]
  },
  {
   "cell_type": "markdown",
   "id": "settled-anime",
   "metadata": {},
   "source": [
    "It does appear that a greater proportion of the drug group had negative change scores, indicating a greater proportion of participants in the drug group experienced a reduction in symptom severity.\n",
    "\n",
    "We can calculate the difference in these proportions:"
   ]
  },
  {
   "cell_type": "code",
   "execution_count": 18,
   "id": "negative-fence",
   "metadata": {},
   "outputs": [
    {
     "name": "stdout",
     "output_type": "stream",
     "text": [
      "Difference in the proportion of negative change scores (placebo group - drug group) = -0.13749999999999996\n"
     ]
    }
   ],
   "source": [
    "actual_proportion_diff = prop_neg_placebo - prop_neg_drug\n",
    "\n",
    "print('Difference in the proportion of negative change scores (placebo group - drug group) =',  actual_proportion_diff)"
   ]
  },
  {
   "cell_type": "markdown",
   "id": "sacred-enzyme",
   "metadata": {},
   "source": [
    "We can permutation test this by shuffling the `+` and `-` labels around, under the null hypothesis that there is no difference in the proportion of negative change scores in each group:"
   ]
  },
  {
   "cell_type": "code",
   "execution_count": 19,
   "id": "extended-tenant",
   "metadata": {},
   "outputs": [],
   "source": [
    "# count the number of participants in the placebo group\n",
    "n_placebo = len(placebo_change)\n",
    "\n",
    "# pool the change score signs from each group\n",
    "pooled = np.append(placebo_change_signs, drug_change_signs)\n",
    "\n",
    "# set the number of iterations\n",
    "n_iters = 10000\n",
    "\n",
    "# create an array to store the fake proportion differences\n",
    "fake_differences = np.zeros(n_iters)\n",
    "\n",
    "# for 10,000 iterations...\n",
    "for i in np.arange(n_iters):\n",
    "    \n",
    "    # shuffle the +/- change labels around\n",
    "    shuffled = np.random.permutation(pooled)\n",
    "    \n",
    "    # create a fake placebo group from the shuffled labels\n",
    "    fake_placebo_change_signs = shuffled[:n_placebo]\n",
    "    \n",
    "    # create a fake drug group from the shuffled labels\n",
    "    fake_drug_change_signs = shuffled[n_placebo:]\n",
    "    \n",
    "    # caclulate the fake proportion of negative changes in the placebo group\n",
    "    fake_prop_neg_placebo = np.count_nonzero(fake_placebo_change_signs == '-')/len(fake_placebo_change_signs)\n",
    "    \n",
    "    # caclulate the fake proportion of negative changes in the drug group\n",
    "    fake_prop_neg_drug = np.count_nonzero(fake_drug_change_signs == '-')/len(fake_drug_change_signs)\n",
    "    \n",
    "    # store the fake proportion difference in the fake_differences array\n",
    "    fake_differences[i] = fake_prop_neg_placebo - fake_prop_neg_drug\n"
   ]
  },
  {
   "cell_type": "markdown",
   "id": "muslim-airplane",
   "metadata": {},
   "source": [
    "Again, we can plot the simulated sampling distribution, under the null hypothesis, of the difference in the proportion of negative change scores between the groups:"
   ]
  },
  {
   "cell_type": "code",
   "execution_count": 20,
   "id": "irish-sample",
   "metadata": {},
   "outputs": [
    {
     "data": {
      "image/png": "[encoded data removed]",
      "text/plain": [
       "<Figure size 432x288 with 1 Axes>"
      ]
     },
     "metadata": {
      "needs_background": "light"
     },
     "output_type": "display_data"
    }
   ],
   "source": [
    "plt.hist(fake_differences)\n",
    "plt.title('Sampling distribution of difference of fake differences in the proportion of negative change scores')\n",
    "plt.plot(actual_proportion_diff, 1, 'o',  markersize = 10, label = 'actual difference in proportion of negative change scores')\n",
    "plt.legend();"
   ]
  },
  {
   "cell_type": "markdown",
   "id": "strategic-liver",
   "metadata": {},
   "source": [
    "And we can calculate a p-value in the familiar way:"
   ]
  },
  {
   "cell_type": "code",
   "execution_count": 21,
   "id": "forward-words",
   "metadata": {},
   "outputs": [
    {
     "name": "stdout",
     "output_type": "stream",
     "text": [
      "p =  0.05\n"
     ]
    }
   ],
   "source": [
    "p_value = np.count_nonzero(fake_differences >= np.abs(actual_proportion_diff))/len(fake_differences)\n",
    "\n",
    "print('p = ', p_value)"
   ]
  },
  {
   "cell_type": "code",
   "execution_count": null,
   "id": "whole-course",
   "metadata": {},
   "outputs": [],
   "source": []
  }
 ],
 "metadata": {
  "jupytext": {
   "formats": "ipynb,Rmd"
  },
  "kernelspec": {
   "display_name": "Python 3",
   "language": "python",
   "name": "python3"
  },
  "language_info": {
   "codemirror_mode": {
    "name": "ipython",
    "version": 3
   },
   "file_extension": ".py",
   "mimetype": "text/x-python",
   "name": "python",
   "nbconvert_exporter": "python",
   "pygments_lexer": "ipython3",
   "version": "3.7.9"
  }
 },
 "nbformat": 4,
 "nbformat_minor": 5
}
